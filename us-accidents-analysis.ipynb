{
 "cells": [
  {
   "cell_type": "markdown",
   "metadata": {
    "id": "UaMpQqS4XCi5"
   },
   "source": [
    "# US Accidents Exploratory Data Analysis\r\n",
    "\r\n",
    "TODO - talk about EDA\r\n",
    "\r\n",
    "TODO - talk abouth the dataset (source,what it contains, how it will be useful)\r\n",
    "  - Kaggle\r\n",
    "  - information about accidents\r\n",
    "  - can use useful to prevent accidents"
   ]
  },
  {
   "cell_type": "code",
   "execution_count": 97,
   "metadata": {
    "executionInfo": {
     "elapsed": 8999,
     "status": "ok",
     "timestamp": 1614898521737,
     "user": {
      "displayName": "abhishek",
      "photoUrl": "",
      "userId": "06829233220391213420"
     },
     "user_tz": -330
    },
    "id": "8N4rd4ORWP0C"
   },
   "outputs": [],
   "source": [
    "pip install opendatasets --upgrade --quiet"
   ]
  },
  {
   "cell_type": "code",
   "execution_count": 98,
   "metadata": {
    "colab": {
     "base_uri": "https://localhost:8080/"
    },
    "executionInfo": {
     "elapsed": 111992,
     "status": "ok",
     "timestamp": 1614898624738,
     "user": {
      "displayName": "abhishek",
      "photoUrl": "",
      "userId": "06829233220391213420"
     },
     "user_tz": -330
    },
    "id": "V_osX9weWP0C",
    "outputId": "85c33ec6-ece8-44b9-b314-b9b0b45e9807"
   },
   "outputs": [
    {
     "name": "stdout",
     "output_type": "stream",
     "text": [
      "Please provide your Kaggle credentials to download this dataset. Learn more: http://bit.ly/kaggle-creds\n",
      "Your Kaggle username: abhishekvishal\n",
      "Your Kaggle Key: ··········\n"
     ]
    },
    {
     "name": "stderr",
     "output_type": "stream",
     "text": [
      "\r",
      "  0%|          | 0.00/299M [00:00<?, ?B/s]"
     ]
    },
    {
     "name": "stdout",
     "output_type": "stream",
     "text": [
      "Downloading us-accidents.zip to ./us-accidents\n"
     ]
    },
    {
     "name": "stderr",
     "output_type": "stream",
     "text": [
      "100%|██████████| 299M/299M [00:04<00:00, 65.6MB/s]\n"
     ]
    },
    {
     "name": "stdout",
     "output_type": "stream",
     "text": [
      "\n"
     ]
    }
   ],
   "source": [
    "import opendatasets as od\r\n",
    "\r\n",
    "download_url = 'https://www.kaggle.com/sobhanmoosavi/us-accidents'\r\n",
    "od.download(download_url)"
   ]
  },
  {
   "cell_type": "markdown",
   "metadata": {
    "id": "8L74xCXbXZKt"
   },
   "source": [
    "## Download the Data"
   ]
  },
  {
   "cell_type": "code",
   "execution_count": 99,
   "metadata": {
    "executionInfo": {
     "elapsed": 111987,
     "status": "ok",
     "timestamp": 1614898624739,
     "user": {
      "displayName": "abhishek",
      "photoUrl": "",
      "userId": "06829233220391213420"
     },
     "user_tz": -330
    },
    "id": "pIpfRJK8XKo2"
   },
   "outputs": [],
   "source": [
    "data_filename = './us-accidents/US_Accidents_Dec20.csv'"
   ]
  },
  {
   "cell_type": "markdown",
   "metadata": {
    "id": "AKOH_e7kXezL"
   },
   "source": [
    "## Data Preparation and Cleaning\r\n",
    "\r\n",
    "- Load the file using pandas\r\n",
    "- Look at some information about the data & the columns\r\n",
    "- Fix any missing or incorret datas"
   ]
  },
  {
   "cell_type": "code",
   "execution_count": 100,
   "metadata": {
    "executionInfo": {
     "elapsed": 111983,
     "status": "ok",
     "timestamp": 1614898624740,
     "user": {
      "displayName": "abhishek",
      "photoUrl": "",
      "userId": "06829233220391213420"
     },
     "user_tz": -330
    },
    "id": "afIhqoJoXPEO"
   },
   "outputs": [],
   "source": [
    "import pandas as pd"
   ]
  },
  {
   "cell_type": "code",
   "execution_count": 101,
   "metadata": {
    "executionInfo": {
     "elapsed": 163442,
     "status": "ok",
     "timestamp": 1614898676204,
     "user": {
      "displayName": "abhishek",
      "photoUrl": "",
      "userId": "06829233220391213420"
     },
     "user_tz": -330
    },
    "id": "kbkj5L5pbFXF"
   },
   "outputs": [],
   "source": [
    "df = pd.read_csv(data_filename)"
   ]
  },
  {
   "cell_type": "code",
   "execution_count": 102,
   "metadata": {
    "colab": {
     "base_uri": "https://localhost:8080/",
     "height": 993
    },
    "executionInfo": {
     "elapsed": 163934,
     "status": "ok",
     "timestamp": 1614898676702,
     "user": {
      "displayName": "abhishek",
      "photoUrl": "",
      "userId": "06829233220391213420"
     },
     "user_tz": -330
    },
    "id": "OmuLPJfFXPME",
    "outputId": "daeaeb06-7a27-44ce-d4d3-f98710d353b3"
   },
   "outputs": [
    {
     "data": {
      "text/html": [
       "<div>\n",
       "<style scoped>\n",
       "    .dataframe tbody tr th:only-of-type {\n",
       "        vertical-align: middle;\n",
       "    }\n",
       "\n",
       "    .dataframe tbody tr th {\n",
       "        vertical-align: top;\n",
       "    }\n",
       "\n",
       "    .dataframe thead th {\n",
       "        text-align: right;\n",
       "    }\n",
       "</style>\n",
       "<table border=\"1\" class=\"dataframe\">\n",
       "  <thead>\n",
       "    <tr style=\"text-align: right;\">\n",
       "      <th></th>\n",
       "      <th>ID</th>\n",
       "      <th>Source</th>\n",
       "      <th>TMC</th>\n",
       "      <th>Severity</th>\n",
       "      <th>Start_Time</th>\n",
       "      <th>End_Time</th>\n",
       "      <th>Start_Lat</th>\n",
       "      <th>Start_Lng</th>\n",
       "      <th>End_Lat</th>\n",
       "      <th>End_Lng</th>\n",
       "      <th>Distance(mi)</th>\n",
       "      <th>Description</th>\n",
       "      <th>Number</th>\n",
       "      <th>Street</th>\n",
       "      <th>Side</th>\n",
       "      <th>City</th>\n",
       "      <th>County</th>\n",
       "      <th>State</th>\n",
       "      <th>Zipcode</th>\n",
       "      <th>Country</th>\n",
       "      <th>Timezone</th>\n",
       "      <th>Airport_Code</th>\n",
       "      <th>Weather_Timestamp</th>\n",
       "      <th>Temperature(F)</th>\n",
       "      <th>Wind_Chill(F)</th>\n",
       "      <th>Humidity(%)</th>\n",
       "      <th>Pressure(in)</th>\n",
       "      <th>Visibility(mi)</th>\n",
       "      <th>Wind_Direction</th>\n",
       "      <th>Wind_Speed(mph)</th>\n",
       "      <th>Precipitation(in)</th>\n",
       "      <th>Weather_Condition</th>\n",
       "      <th>Amenity</th>\n",
       "      <th>Bump</th>\n",
       "      <th>Crossing</th>\n",
       "      <th>Give_Way</th>\n",
       "      <th>Junction</th>\n",
       "      <th>No_Exit</th>\n",
       "      <th>Railway</th>\n",
       "      <th>Roundabout</th>\n",
       "      <th>Station</th>\n",
       "      <th>Stop</th>\n",
       "      <th>Traffic_Calming</th>\n",
       "      <th>Traffic_Signal</th>\n",
       "      <th>Turning_Loop</th>\n",
       "      <th>Sunrise_Sunset</th>\n",
       "      <th>Civil_Twilight</th>\n",
       "      <th>Nautical_Twilight</th>\n",
       "      <th>Astronomical_Twilight</th>\n",
       "    </tr>\n",
       "  </thead>\n",
       "  <tbody>\n",
       "    <tr>\n",
       "      <th>0</th>\n",
       "      <td>A-1</td>\n",
       "      <td>MapQuest</td>\n",
       "      <td>201.0</td>\n",
       "      <td>3</td>\n",
       "      <td>2016-02-08 05:46:00</td>\n",
       "      <td>2016-02-08 11:00:00</td>\n",
       "      <td>39.865147</td>\n",
       "      <td>-84.058723</td>\n",
       "      <td>NaN</td>\n",
       "      <td>NaN</td>\n",
       "      <td>0.010</td>\n",
       "      <td>Right lane blocked due to accident on I-70 Eas...</td>\n",
       "      <td>NaN</td>\n",
       "      <td>I-70 E</td>\n",
       "      <td>R</td>\n",
       "      <td>Dayton</td>\n",
       "      <td>Montgomery</td>\n",
       "      <td>OH</td>\n",
       "      <td>45424</td>\n",
       "      <td>US</td>\n",
       "      <td>US/Eastern</td>\n",
       "      <td>KFFO</td>\n",
       "      <td>2016-02-08 05:58:00</td>\n",
       "      <td>36.9</td>\n",
       "      <td>NaN</td>\n",
       "      <td>91.0</td>\n",
       "      <td>29.68</td>\n",
       "      <td>10.0</td>\n",
       "      <td>Calm</td>\n",
       "      <td>NaN</td>\n",
       "      <td>0.02</td>\n",
       "      <td>Light Rain</td>\n",
       "      <td>False</td>\n",
       "      <td>False</td>\n",
       "      <td>False</td>\n",
       "      <td>False</td>\n",
       "      <td>False</td>\n",
       "      <td>False</td>\n",
       "      <td>False</td>\n",
       "      <td>False</td>\n",
       "      <td>False</td>\n",
       "      <td>False</td>\n",
       "      <td>False</td>\n",
       "      <td>False</td>\n",
       "      <td>False</td>\n",
       "      <td>Night</td>\n",
       "      <td>Night</td>\n",
       "      <td>Night</td>\n",
       "      <td>Night</td>\n",
       "    </tr>\n",
       "    <tr>\n",
       "      <th>1</th>\n",
       "      <td>A-2</td>\n",
       "      <td>MapQuest</td>\n",
       "      <td>201.0</td>\n",
       "      <td>2</td>\n",
       "      <td>2016-02-08 06:07:59</td>\n",
       "      <td>2016-02-08 06:37:59</td>\n",
       "      <td>39.928059</td>\n",
       "      <td>-82.831184</td>\n",
       "      <td>NaN</td>\n",
       "      <td>NaN</td>\n",
       "      <td>0.010</td>\n",
       "      <td>Accident on Brice Rd at Tussing Rd. Expect del...</td>\n",
       "      <td>2584.0</td>\n",
       "      <td>Brice Rd</td>\n",
       "      <td>L</td>\n",
       "      <td>Reynoldsburg</td>\n",
       "      <td>Franklin</td>\n",
       "      <td>OH</td>\n",
       "      <td>43068-3402</td>\n",
       "      <td>US</td>\n",
       "      <td>US/Eastern</td>\n",
       "      <td>KCMH</td>\n",
       "      <td>2016-02-08 05:51:00</td>\n",
       "      <td>37.9</td>\n",
       "      <td>NaN</td>\n",
       "      <td>100.0</td>\n",
       "      <td>29.65</td>\n",
       "      <td>10.0</td>\n",
       "      <td>Calm</td>\n",
       "      <td>NaN</td>\n",
       "      <td>0.00</td>\n",
       "      <td>Light Rain</td>\n",
       "      <td>False</td>\n",
       "      <td>False</td>\n",
       "      <td>False</td>\n",
       "      <td>False</td>\n",
       "      <td>False</td>\n",
       "      <td>False</td>\n",
       "      <td>False</td>\n",
       "      <td>False</td>\n",
       "      <td>False</td>\n",
       "      <td>False</td>\n",
       "      <td>False</td>\n",
       "      <td>False</td>\n",
       "      <td>False</td>\n",
       "      <td>Night</td>\n",
       "      <td>Night</td>\n",
       "      <td>Night</td>\n",
       "      <td>Day</td>\n",
       "    </tr>\n",
       "    <tr>\n",
       "      <th>2</th>\n",
       "      <td>A-3</td>\n",
       "      <td>MapQuest</td>\n",
       "      <td>201.0</td>\n",
       "      <td>2</td>\n",
       "      <td>2016-02-08 06:49:27</td>\n",
       "      <td>2016-02-08 07:19:27</td>\n",
       "      <td>39.063148</td>\n",
       "      <td>-84.032608</td>\n",
       "      <td>NaN</td>\n",
       "      <td>NaN</td>\n",
       "      <td>0.010</td>\n",
       "      <td>Accident on OH-32 State Route 32 Westbound at ...</td>\n",
       "      <td>NaN</td>\n",
       "      <td>State Route 32</td>\n",
       "      <td>R</td>\n",
       "      <td>Williamsburg</td>\n",
       "      <td>Clermont</td>\n",
       "      <td>OH</td>\n",
       "      <td>45176</td>\n",
       "      <td>US</td>\n",
       "      <td>US/Eastern</td>\n",
       "      <td>KI69</td>\n",
       "      <td>2016-02-08 06:56:00</td>\n",
       "      <td>36.0</td>\n",
       "      <td>33.3</td>\n",
       "      <td>100.0</td>\n",
       "      <td>29.67</td>\n",
       "      <td>10.0</td>\n",
       "      <td>SW</td>\n",
       "      <td>3.5</td>\n",
       "      <td>NaN</td>\n",
       "      <td>Overcast</td>\n",
       "      <td>False</td>\n",
       "      <td>False</td>\n",
       "      <td>False</td>\n",
       "      <td>False</td>\n",
       "      <td>False</td>\n",
       "      <td>False</td>\n",
       "      <td>False</td>\n",
       "      <td>False</td>\n",
       "      <td>False</td>\n",
       "      <td>False</td>\n",
       "      <td>False</td>\n",
       "      <td>True</td>\n",
       "      <td>False</td>\n",
       "      <td>Night</td>\n",
       "      <td>Night</td>\n",
       "      <td>Day</td>\n",
       "      <td>Day</td>\n",
       "    </tr>\n",
       "    <tr>\n",
       "      <th>3</th>\n",
       "      <td>A-4</td>\n",
       "      <td>MapQuest</td>\n",
       "      <td>201.0</td>\n",
       "      <td>3</td>\n",
       "      <td>2016-02-08 07:23:34</td>\n",
       "      <td>2016-02-08 07:53:34</td>\n",
       "      <td>39.747753</td>\n",
       "      <td>-84.205582</td>\n",
       "      <td>NaN</td>\n",
       "      <td>NaN</td>\n",
       "      <td>0.010</td>\n",
       "      <td>Accident on I-75 Southbound at Exits 52 52B US...</td>\n",
       "      <td>NaN</td>\n",
       "      <td>I-75 S</td>\n",
       "      <td>R</td>\n",
       "      <td>Dayton</td>\n",
       "      <td>Montgomery</td>\n",
       "      <td>OH</td>\n",
       "      <td>45417</td>\n",
       "      <td>US</td>\n",
       "      <td>US/Eastern</td>\n",
       "      <td>KDAY</td>\n",
       "      <td>2016-02-08 07:38:00</td>\n",
       "      <td>35.1</td>\n",
       "      <td>31.0</td>\n",
       "      <td>96.0</td>\n",
       "      <td>29.64</td>\n",
       "      <td>9.0</td>\n",
       "      <td>SW</td>\n",
       "      <td>4.6</td>\n",
       "      <td>NaN</td>\n",
       "      <td>Mostly Cloudy</td>\n",
       "      <td>False</td>\n",
       "      <td>False</td>\n",
       "      <td>False</td>\n",
       "      <td>False</td>\n",
       "      <td>False</td>\n",
       "      <td>False</td>\n",
       "      <td>False</td>\n",
       "      <td>False</td>\n",
       "      <td>False</td>\n",
       "      <td>False</td>\n",
       "      <td>False</td>\n",
       "      <td>False</td>\n",
       "      <td>False</td>\n",
       "      <td>Night</td>\n",
       "      <td>Day</td>\n",
       "      <td>Day</td>\n",
       "      <td>Day</td>\n",
       "    </tr>\n",
       "    <tr>\n",
       "      <th>4</th>\n",
       "      <td>A-5</td>\n",
       "      <td>MapQuest</td>\n",
       "      <td>201.0</td>\n",
       "      <td>2</td>\n",
       "      <td>2016-02-08 07:39:07</td>\n",
       "      <td>2016-02-08 08:09:07</td>\n",
       "      <td>39.627781</td>\n",
       "      <td>-84.188354</td>\n",
       "      <td>NaN</td>\n",
       "      <td>NaN</td>\n",
       "      <td>0.010</td>\n",
       "      <td>Accident on McEwen Rd at OH-725 Miamisburg Cen...</td>\n",
       "      <td>NaN</td>\n",
       "      <td>Miamisburg Centerville Rd</td>\n",
       "      <td>R</td>\n",
       "      <td>Dayton</td>\n",
       "      <td>Montgomery</td>\n",
       "      <td>OH</td>\n",
       "      <td>45459</td>\n",
       "      <td>US</td>\n",
       "      <td>US/Eastern</td>\n",
       "      <td>KMGY</td>\n",
       "      <td>2016-02-08 07:53:00</td>\n",
       "      <td>36.0</td>\n",
       "      <td>33.3</td>\n",
       "      <td>89.0</td>\n",
       "      <td>29.65</td>\n",
       "      <td>6.0</td>\n",
       "      <td>SW</td>\n",
       "      <td>3.5</td>\n",
       "      <td>NaN</td>\n",
       "      <td>Mostly Cloudy</td>\n",
       "      <td>False</td>\n",
       "      <td>False</td>\n",
       "      <td>False</td>\n",
       "      <td>False</td>\n",
       "      <td>False</td>\n",
       "      <td>False</td>\n",
       "      <td>False</td>\n",
       "      <td>False</td>\n",
       "      <td>False</td>\n",
       "      <td>False</td>\n",
       "      <td>False</td>\n",
       "      <td>True</td>\n",
       "      <td>False</td>\n",
       "      <td>Day</td>\n",
       "      <td>Day</td>\n",
       "      <td>Day</td>\n",
       "      <td>Day</td>\n",
       "    </tr>\n",
       "    <tr>\n",
       "      <th>...</th>\n",
       "      <td>...</td>\n",
       "      <td>...</td>\n",
       "      <td>...</td>\n",
       "      <td>...</td>\n",
       "      <td>...</td>\n",
       "      <td>...</td>\n",
       "      <td>...</td>\n",
       "      <td>...</td>\n",
       "      <td>...</td>\n",
       "      <td>...</td>\n",
       "      <td>...</td>\n",
       "      <td>...</td>\n",
       "      <td>...</td>\n",
       "      <td>...</td>\n",
       "      <td>...</td>\n",
       "      <td>...</td>\n",
       "      <td>...</td>\n",
       "      <td>...</td>\n",
       "      <td>...</td>\n",
       "      <td>...</td>\n",
       "      <td>...</td>\n",
       "      <td>...</td>\n",
       "      <td>...</td>\n",
       "      <td>...</td>\n",
       "      <td>...</td>\n",
       "      <td>...</td>\n",
       "      <td>...</td>\n",
       "      <td>...</td>\n",
       "      <td>...</td>\n",
       "      <td>...</td>\n",
       "      <td>...</td>\n",
       "      <td>...</td>\n",
       "      <td>...</td>\n",
       "      <td>...</td>\n",
       "      <td>...</td>\n",
       "      <td>...</td>\n",
       "      <td>...</td>\n",
       "      <td>...</td>\n",
       "      <td>...</td>\n",
       "      <td>...</td>\n",
       "      <td>...</td>\n",
       "      <td>...</td>\n",
       "      <td>...</td>\n",
       "      <td>...</td>\n",
       "      <td>...</td>\n",
       "      <td>...</td>\n",
       "      <td>...</td>\n",
       "      <td>...</td>\n",
       "      <td>...</td>\n",
       "    </tr>\n",
       "    <tr>\n",
       "      <th>4232536</th>\n",
       "      <td>A-4239402</td>\n",
       "      <td>Bing</td>\n",
       "      <td>NaN</td>\n",
       "      <td>2</td>\n",
       "      <td>2019-08-23 18:03:25</td>\n",
       "      <td>2019-08-23 18:32:01</td>\n",
       "      <td>34.002480</td>\n",
       "      <td>-117.379360</td>\n",
       "      <td>33.99888</td>\n",
       "      <td>-117.37094</td>\n",
       "      <td>0.543</td>\n",
       "      <td>At Market St - Accident.</td>\n",
       "      <td>NaN</td>\n",
       "      <td>Pomona Fwy E</td>\n",
       "      <td>R</td>\n",
       "      <td>Riverside</td>\n",
       "      <td>Riverside</td>\n",
       "      <td>CA</td>\n",
       "      <td>92501</td>\n",
       "      <td>US</td>\n",
       "      <td>US/Pacific</td>\n",
       "      <td>KRAL</td>\n",
       "      <td>2019-08-23 17:53:00</td>\n",
       "      <td>86.0</td>\n",
       "      <td>86.0</td>\n",
       "      <td>40.0</td>\n",
       "      <td>28.92</td>\n",
       "      <td>10.0</td>\n",
       "      <td>W</td>\n",
       "      <td>13.0</td>\n",
       "      <td>0.00</td>\n",
       "      <td>Fair</td>\n",
       "      <td>False</td>\n",
       "      <td>False</td>\n",
       "      <td>False</td>\n",
       "      <td>False</td>\n",
       "      <td>False</td>\n",
       "      <td>False</td>\n",
       "      <td>False</td>\n",
       "      <td>False</td>\n",
       "      <td>False</td>\n",
       "      <td>False</td>\n",
       "      <td>False</td>\n",
       "      <td>False</td>\n",
       "      <td>False</td>\n",
       "      <td>Day</td>\n",
       "      <td>Day</td>\n",
       "      <td>Day</td>\n",
       "      <td>Day</td>\n",
       "    </tr>\n",
       "    <tr>\n",
       "      <th>4232537</th>\n",
       "      <td>A-4239403</td>\n",
       "      <td>Bing</td>\n",
       "      <td>NaN</td>\n",
       "      <td>2</td>\n",
       "      <td>2019-08-23 19:11:30</td>\n",
       "      <td>2019-08-23 19:38:23</td>\n",
       "      <td>32.766960</td>\n",
       "      <td>-117.148060</td>\n",
       "      <td>32.76555</td>\n",
       "      <td>-117.15363</td>\n",
       "      <td>0.338</td>\n",
       "      <td>At Camino Del Rio/Mission Center Rd - Accident.</td>\n",
       "      <td>NaN</td>\n",
       "      <td>I-8 W</td>\n",
       "      <td>R</td>\n",
       "      <td>San Diego</td>\n",
       "      <td>San Diego</td>\n",
       "      <td>CA</td>\n",
       "      <td>92108</td>\n",
       "      <td>US</td>\n",
       "      <td>US/Pacific</td>\n",
       "      <td>KMYF</td>\n",
       "      <td>2019-08-23 18:53:00</td>\n",
       "      <td>70.0</td>\n",
       "      <td>70.0</td>\n",
       "      <td>73.0</td>\n",
       "      <td>29.39</td>\n",
       "      <td>10.0</td>\n",
       "      <td>SW</td>\n",
       "      <td>6.0</td>\n",
       "      <td>0.00</td>\n",
       "      <td>Fair</td>\n",
       "      <td>False</td>\n",
       "      <td>False</td>\n",
       "      <td>False</td>\n",
       "      <td>False</td>\n",
       "      <td>False</td>\n",
       "      <td>False</td>\n",
       "      <td>False</td>\n",
       "      <td>False</td>\n",
       "      <td>False</td>\n",
       "      <td>False</td>\n",
       "      <td>False</td>\n",
       "      <td>False</td>\n",
       "      <td>False</td>\n",
       "      <td>Day</td>\n",
       "      <td>Day</td>\n",
       "      <td>Day</td>\n",
       "      <td>Day</td>\n",
       "    </tr>\n",
       "    <tr>\n",
       "      <th>4232538</th>\n",
       "      <td>A-4239404</td>\n",
       "      <td>Bing</td>\n",
       "      <td>NaN</td>\n",
       "      <td>2</td>\n",
       "      <td>2019-08-23 19:00:21</td>\n",
       "      <td>2019-08-23 19:28:49</td>\n",
       "      <td>33.775450</td>\n",
       "      <td>-117.847790</td>\n",
       "      <td>33.77740</td>\n",
       "      <td>-117.85727</td>\n",
       "      <td>0.561</td>\n",
       "      <td>At Glassell St/Grand Ave - Accident. in the ri...</td>\n",
       "      <td>NaN</td>\n",
       "      <td>Garden Grove Fwy</td>\n",
       "      <td>R</td>\n",
       "      <td>Orange</td>\n",
       "      <td>Orange</td>\n",
       "      <td>CA</td>\n",
       "      <td>92866</td>\n",
       "      <td>US</td>\n",
       "      <td>US/Pacific</td>\n",
       "      <td>KSNA</td>\n",
       "      <td>2019-08-23 18:53:00</td>\n",
       "      <td>73.0</td>\n",
       "      <td>73.0</td>\n",
       "      <td>64.0</td>\n",
       "      <td>29.74</td>\n",
       "      <td>10.0</td>\n",
       "      <td>SSW</td>\n",
       "      <td>10.0</td>\n",
       "      <td>0.00</td>\n",
       "      <td>Partly Cloudy</td>\n",
       "      <td>False</td>\n",
       "      <td>False</td>\n",
       "      <td>False</td>\n",
       "      <td>False</td>\n",
       "      <td>True</td>\n",
       "      <td>False</td>\n",
       "      <td>False</td>\n",
       "      <td>False</td>\n",
       "      <td>False</td>\n",
       "      <td>False</td>\n",
       "      <td>False</td>\n",
       "      <td>False</td>\n",
       "      <td>False</td>\n",
       "      <td>Day</td>\n",
       "      <td>Day</td>\n",
       "      <td>Day</td>\n",
       "      <td>Day</td>\n",
       "    </tr>\n",
       "    <tr>\n",
       "      <th>4232539</th>\n",
       "      <td>A-4239405</td>\n",
       "      <td>Bing</td>\n",
       "      <td>NaN</td>\n",
       "      <td>2</td>\n",
       "      <td>2019-08-23 19:00:21</td>\n",
       "      <td>2019-08-23 19:29:42</td>\n",
       "      <td>33.992460</td>\n",
       "      <td>-118.403020</td>\n",
       "      <td>33.98311</td>\n",
       "      <td>-118.39565</td>\n",
       "      <td>0.772</td>\n",
       "      <td>At CA-90/Marina Fwy/Jefferson Blvd - Accident.</td>\n",
       "      <td>NaN</td>\n",
       "      <td>San Diego Fwy S</td>\n",
       "      <td>R</td>\n",
       "      <td>Culver City</td>\n",
       "      <td>Los Angeles</td>\n",
       "      <td>CA</td>\n",
       "      <td>90230</td>\n",
       "      <td>US</td>\n",
       "      <td>US/Pacific</td>\n",
       "      <td>KSMO</td>\n",
       "      <td>2019-08-23 18:51:00</td>\n",
       "      <td>71.0</td>\n",
       "      <td>71.0</td>\n",
       "      <td>81.0</td>\n",
       "      <td>29.62</td>\n",
       "      <td>10.0</td>\n",
       "      <td>SW</td>\n",
       "      <td>8.0</td>\n",
       "      <td>0.00</td>\n",
       "      <td>Fair</td>\n",
       "      <td>False</td>\n",
       "      <td>False</td>\n",
       "      <td>False</td>\n",
       "      <td>False</td>\n",
       "      <td>False</td>\n",
       "      <td>False</td>\n",
       "      <td>False</td>\n",
       "      <td>False</td>\n",
       "      <td>False</td>\n",
       "      <td>False</td>\n",
       "      <td>False</td>\n",
       "      <td>False</td>\n",
       "      <td>False</td>\n",
       "      <td>Day</td>\n",
       "      <td>Day</td>\n",
       "      <td>Day</td>\n",
       "      <td>Day</td>\n",
       "    </tr>\n",
       "    <tr>\n",
       "      <th>4232540</th>\n",
       "      <td>A-4239406</td>\n",
       "      <td>Bing</td>\n",
       "      <td>NaN</td>\n",
       "      <td>2</td>\n",
       "      <td>2019-08-23 18:52:06</td>\n",
       "      <td>2019-08-23 19:21:31</td>\n",
       "      <td>34.133930</td>\n",
       "      <td>-117.230920</td>\n",
       "      <td>34.13736</td>\n",
       "      <td>-117.23934</td>\n",
       "      <td>0.537</td>\n",
       "      <td>At Highland Ave/Arden Ave - Accident.</td>\n",
       "      <td>NaN</td>\n",
       "      <td>CA-210 W</td>\n",
       "      <td>R</td>\n",
       "      <td>Highland</td>\n",
       "      <td>San Bernardino</td>\n",
       "      <td>CA</td>\n",
       "      <td>92346</td>\n",
       "      <td>US</td>\n",
       "      <td>US/Pacific</td>\n",
       "      <td>KSBD</td>\n",
       "      <td>2019-08-23 20:50:00</td>\n",
       "      <td>79.0</td>\n",
       "      <td>79.0</td>\n",
       "      <td>47.0</td>\n",
       "      <td>28.63</td>\n",
       "      <td>7.0</td>\n",
       "      <td>SW</td>\n",
       "      <td>7.0</td>\n",
       "      <td>0.00</td>\n",
       "      <td>Fair</td>\n",
       "      <td>False</td>\n",
       "      <td>False</td>\n",
       "      <td>False</td>\n",
       "      <td>False</td>\n",
       "      <td>False</td>\n",
       "      <td>False</td>\n",
       "      <td>False</td>\n",
       "      <td>False</td>\n",
       "      <td>False</td>\n",
       "      <td>False</td>\n",
       "      <td>False</td>\n",
       "      <td>False</td>\n",
       "      <td>False</td>\n",
       "      <td>Day</td>\n",
       "      <td>Day</td>\n",
       "      <td>Day</td>\n",
       "      <td>Day</td>\n",
       "    </tr>\n",
       "  </tbody>\n",
       "</table>\n",
       "<p>4232541 rows × 49 columns</p>\n",
       "</div>"
      ],
      "text/plain": [
       "                ID    Source  ...  Nautical_Twilight  Astronomical_Twilight\n",
       "0              A-1  MapQuest  ...              Night                  Night\n",
       "1              A-2  MapQuest  ...              Night                    Day\n",
       "2              A-3  MapQuest  ...                Day                    Day\n",
       "3              A-4  MapQuest  ...                Day                    Day\n",
       "4              A-5  MapQuest  ...                Day                    Day\n",
       "...            ...       ...  ...                ...                    ...\n",
       "4232536  A-4239402      Bing  ...                Day                    Day\n",
       "4232537  A-4239403      Bing  ...                Day                    Day\n",
       "4232538  A-4239404      Bing  ...                Day                    Day\n",
       "4232539  A-4239405      Bing  ...                Day                    Day\n",
       "4232540  A-4239406      Bing  ...                Day                    Day\n",
       "\n",
       "[4232541 rows x 49 columns]"
      ]
     },
     "execution_count": 102,
     "metadata": {
      "tags": []
     },
     "output_type": "execute_result"
    }
   ],
   "source": [
    "df"
   ]
  },
  {
   "cell_type": "code",
   "execution_count": 103,
   "metadata": {
    "colab": {
     "base_uri": "https://localhost:8080/"
    },
    "executionInfo": {
     "elapsed": 163928,
     "status": "ok",
     "timestamp": 1614898676703,
     "user": {
      "displayName": "abhishek",
      "photoUrl": "",
      "userId": "06829233220391213420"
     },
     "user_tz": -330
    },
    "id": "2PF6_xqNblUB",
    "outputId": "3c69a654-7f0a-48fe-828f-7e636e7dd647"
   },
   "outputs": [
    {
     "name": "stdout",
     "output_type": "stream",
     "text": [
      "<class 'pandas.core.frame.DataFrame'>\n",
      "RangeIndex: 4232541 entries, 0 to 4232540\n",
      "Data columns (total 49 columns):\n",
      " #   Column                 Dtype  \n",
      "---  ------                 -----  \n",
      " 0   ID                     object \n",
      " 1   Source                 object \n",
      " 2   TMC                    float64\n",
      " 3   Severity               int64  \n",
      " 4   Start_Time             object \n",
      " 5   End_Time               object \n",
      " 6   Start_Lat              float64\n",
      " 7   Start_Lng              float64\n",
      " 8   End_Lat                float64\n",
      " 9   End_Lng                float64\n",
      " 10  Distance(mi)           float64\n",
      " 11  Description            object \n",
      " 12  Number                 float64\n",
      " 13  Street                 object \n",
      " 14  Side                   object \n",
      " 15  City                   object \n",
      " 16  County                 object \n",
      " 17  State                  object \n",
      " 18  Zipcode                object \n",
      " 19  Country                object \n",
      " 20  Timezone               object \n",
      " 21  Airport_Code           object \n",
      " 22  Weather_Timestamp      object \n",
      " 23  Temperature(F)         float64\n",
      " 24  Wind_Chill(F)          float64\n",
      " 25  Humidity(%)            float64\n",
      " 26  Pressure(in)           float64\n",
      " 27  Visibility(mi)         float64\n",
      " 28  Wind_Direction         object \n",
      " 29  Wind_Speed(mph)        float64\n",
      " 30  Precipitation(in)      float64\n",
      " 31  Weather_Condition      object \n",
      " 32  Amenity                bool   \n",
      " 33  Bump                   bool   \n",
      " 34  Crossing               bool   \n",
      " 35  Give_Way               bool   \n",
      " 36  Junction               bool   \n",
      " 37  No_Exit                bool   \n",
      " 38  Railway                bool   \n",
      " 39  Roundabout             bool   \n",
      " 40  Station                bool   \n",
      " 41  Stop                   bool   \n",
      " 42  Traffic_Calming        bool   \n",
      " 43  Traffic_Signal         bool   \n",
      " 44  Turning_Loop           bool   \n",
      " 45  Sunrise_Sunset         object \n",
      " 46  Civil_Twilight         object \n",
      " 47  Nautical_Twilight      object \n",
      " 48  Astronomical_Twilight  object \n",
      "dtypes: bool(13), float64(14), int64(1), object(21)\n",
      "memory usage: 1.2+ GB\n"
     ]
    }
   ],
   "source": [
    "df.info()"
   ]
  },
  {
   "cell_type": "code",
   "execution_count": 104,
   "metadata": {
    "colab": {
     "base_uri": "https://localhost:8080/",
     "height": 304
    },
    "executionInfo": {
     "elapsed": 166506,
     "status": "ok",
     "timestamp": 1614898679289,
     "user": {
      "displayName": "abhishek",
      "photoUrl": "",
      "userId": "06829233220391213420"
     },
     "user_tz": -330
    },
    "id": "dTHY5WbCb3q-",
    "outputId": "0a679cb4-3a91-4ed0-af58-a954ccadca09"
   },
   "outputs": [
    {
     "data": {
      "text/html": [
       "<div>\n",
       "<style scoped>\n",
       "    .dataframe tbody tr th:only-of-type {\n",
       "        vertical-align: middle;\n",
       "    }\n",
       "\n",
       "    .dataframe tbody tr th {\n",
       "        vertical-align: top;\n",
       "    }\n",
       "\n",
       "    .dataframe thead th {\n",
       "        text-align: right;\n",
       "    }\n",
       "</style>\n",
       "<table border=\"1\" class=\"dataframe\">\n",
       "  <thead>\n",
       "    <tr style=\"text-align: right;\">\n",
       "      <th></th>\n",
       "      <th>TMC</th>\n",
       "      <th>Severity</th>\n",
       "      <th>Start_Lat</th>\n",
       "      <th>Start_Lng</th>\n",
       "      <th>End_Lat</th>\n",
       "      <th>End_Lng</th>\n",
       "      <th>Distance(mi)</th>\n",
       "      <th>Number</th>\n",
       "      <th>Temperature(F)</th>\n",
       "      <th>Wind_Chill(F)</th>\n",
       "      <th>Humidity(%)</th>\n",
       "      <th>Pressure(in)</th>\n",
       "      <th>Visibility(mi)</th>\n",
       "      <th>Wind_Speed(mph)</th>\n",
       "      <th>Precipitation(in)</th>\n",
       "    </tr>\n",
       "  </thead>\n",
       "  <tbody>\n",
       "    <tr>\n",
       "      <th>count</th>\n",
       "      <td>2.716477e+06</td>\n",
       "      <td>4.232541e+06</td>\n",
       "      <td>4.232541e+06</td>\n",
       "      <td>4.232541e+06</td>\n",
       "      <td>1.516064e+06</td>\n",
       "      <td>1.516064e+06</td>\n",
       "      <td>4.232541e+06</td>\n",
       "      <td>1.544592e+06</td>\n",
       "      <td>4.142641e+06</td>\n",
       "      <td>2.336540e+06</td>\n",
       "      <td>4.137074e+06</td>\n",
       "      <td>4.156157e+06</td>\n",
       "      <td>4.133873e+06</td>\n",
       "      <td>3.753215e+06</td>\n",
       "      <td>2.166952e+06</td>\n",
       "    </tr>\n",
       "    <tr>\n",
       "      <th>mean</th>\n",
       "      <td>2.083517e+02</td>\n",
       "      <td>2.305035e+00</td>\n",
       "      <td>3.639782e+01</td>\n",
       "      <td>-9.546420e+01</td>\n",
       "      <td>3.690061e+01</td>\n",
       "      <td>-9.859901e+01</td>\n",
       "      <td>3.357021e-01</td>\n",
       "      <td>6.141507e+03</td>\n",
       "      <td>6.147799e+01</td>\n",
       "      <td>5.489319e+01</td>\n",
       "      <td>6.567422e+01</td>\n",
       "      <td>2.969371e+01</td>\n",
       "      <td>9.111991e+00</td>\n",
       "      <td>7.903433e+00</td>\n",
       "      <td>1.244719e-02</td>\n",
       "    </tr>\n",
       "    <tr>\n",
       "      <th>std</th>\n",
       "      <td>2.124413e+01</td>\n",
       "      <td>5.332261e-01</td>\n",
       "      <td>4.964404e+00</td>\n",
       "      <td>1.735319e+01</td>\n",
       "      <td>5.165629e+00</td>\n",
       "      <td>1.849590e+01</td>\n",
       "      <td>1.602143e+00</td>\n",
       "      <td>1.492268e+04</td>\n",
       "      <td>1.852586e+01</td>\n",
       "      <td>2.272355e+01</td>\n",
       "      <td>2.272342e+01</td>\n",
       "      <td>8.639260e-01</td>\n",
       "      <td>2.817582e+00</td>\n",
       "      <td>5.330998e+00</td>\n",
       "      <td>1.637154e-01</td>\n",
       "    </tr>\n",
       "    <tr>\n",
       "      <th>min</th>\n",
       "      <td>2.000000e+02</td>\n",
       "      <td>1.000000e+00</td>\n",
       "      <td>2.455527e+01</td>\n",
       "      <td>-1.246238e+02</td>\n",
       "      <td>2.457011e+01</td>\n",
       "      <td>-1.244978e+02</td>\n",
       "      <td>0.000000e+00</td>\n",
       "      <td>0.000000e+00</td>\n",
       "      <td>-8.900000e+01</td>\n",
       "      <td>-8.900000e+01</td>\n",
       "      <td>1.000000e+00</td>\n",
       "      <td>0.000000e+00</td>\n",
       "      <td>0.000000e+00</td>\n",
       "      <td>0.000000e+00</td>\n",
       "      <td>0.000000e+00</td>\n",
       "    </tr>\n",
       "    <tr>\n",
       "      <th>25%</th>\n",
       "      <td>2.010000e+02</td>\n",
       "      <td>2.000000e+00</td>\n",
       "      <td>3.352058e+01</td>\n",
       "      <td>-1.173570e+02</td>\n",
       "      <td>3.385420e+01</td>\n",
       "      <td>-1.182077e+02</td>\n",
       "      <td>0.000000e+00</td>\n",
       "      <td>8.980000e+02</td>\n",
       "      <td>4.900000e+01</td>\n",
       "      <td>3.800000e+01</td>\n",
       "      <td>4.900000e+01</td>\n",
       "      <td>2.964000e+01</td>\n",
       "      <td>1.000000e+01</td>\n",
       "      <td>4.600000e+00</td>\n",
       "      <td>0.000000e+00</td>\n",
       "    </tr>\n",
       "    <tr>\n",
       "      <th>50%</th>\n",
       "      <td>2.010000e+02</td>\n",
       "      <td>2.000000e+00</td>\n",
       "      <td>3.582542e+01</td>\n",
       "      <td>-9.002078e+01</td>\n",
       "      <td>3.735134e+01</td>\n",
       "      <td>-9.437987e+01</td>\n",
       "      <td>0.000000e+00</td>\n",
       "      <td>2.890000e+03</td>\n",
       "      <td>6.300000e+01</td>\n",
       "      <td>5.800000e+01</td>\n",
       "      <td>6.800000e+01</td>\n",
       "      <td>2.993000e+01</td>\n",
       "      <td>1.000000e+01</td>\n",
       "      <td>7.000000e+00</td>\n",
       "      <td>0.000000e+00</td>\n",
       "    </tr>\n",
       "    <tr>\n",
       "      <th>75%</th>\n",
       "      <td>2.010000e+02</td>\n",
       "      <td>3.000000e+00</td>\n",
       "      <td>4.018313e+01</td>\n",
       "      <td>-8.084682e+01</td>\n",
       "      <td>4.072593e+01</td>\n",
       "      <td>-8.087449e+01</td>\n",
       "      <td>8.900000e-02</td>\n",
       "      <td>7.330000e+03</td>\n",
       "      <td>7.520000e+01</td>\n",
       "      <td>7.300000e+01</td>\n",
       "      <td>8.500000e+01</td>\n",
       "      <td>3.008000e+01</td>\n",
       "      <td>1.000000e+01</td>\n",
       "      <td>1.040000e+01</td>\n",
       "      <td>0.000000e+00</td>\n",
       "    </tr>\n",
       "    <tr>\n",
       "      <th>max</th>\n",
       "      <td>4.060000e+02</td>\n",
       "      <td>4.000000e+00</td>\n",
       "      <td>4.900220e+01</td>\n",
       "      <td>-6.711317e+01</td>\n",
       "      <td>4.907500e+01</td>\n",
       "      <td>-6.710924e+01</td>\n",
       "      <td>4.417500e+02</td>\n",
       "      <td>9.999997e+06</td>\n",
       "      <td>2.030000e+02</td>\n",
       "      <td>1.890000e+02</td>\n",
       "      <td>1.000000e+02</td>\n",
       "      <td>5.804000e+01</td>\n",
       "      <td>1.400000e+02</td>\n",
       "      <td>9.840000e+02</td>\n",
       "      <td>2.500000e+01</td>\n",
       "    </tr>\n",
       "  </tbody>\n",
       "</table>\n",
       "</div>"
      ],
      "text/plain": [
       "                TMC      Severity  ...  Wind_Speed(mph)  Precipitation(in)\n",
       "count  2.716477e+06  4.232541e+06  ...     3.753215e+06       2.166952e+06\n",
       "mean   2.083517e+02  2.305035e+00  ...     7.903433e+00       1.244719e-02\n",
       "std    2.124413e+01  5.332261e-01  ...     5.330998e+00       1.637154e-01\n",
       "min    2.000000e+02  1.000000e+00  ...     0.000000e+00       0.000000e+00\n",
       "25%    2.010000e+02  2.000000e+00  ...     4.600000e+00       0.000000e+00\n",
       "50%    2.010000e+02  2.000000e+00  ...     7.000000e+00       0.000000e+00\n",
       "75%    2.010000e+02  3.000000e+00  ...     1.040000e+01       0.000000e+00\n",
       "max    4.060000e+02  4.000000e+00  ...     9.840000e+02       2.500000e+01\n",
       "\n",
       "[8 rows x 15 columns]"
      ]
     },
     "execution_count": 104,
     "metadata": {
      "tags": []
     },
     "output_type": "execute_result"
    }
   ],
   "source": [
    "df.describe()"
   ]
  },
  {
   "cell_type": "code",
   "execution_count": 105,
   "metadata": {
    "colab": {
     "base_uri": "https://localhost:8080/"
    },
    "executionInfo": {
     "elapsed": 166499,
     "status": "ok",
     "timestamp": 1614898679290,
     "user": {
      "displayName": "abhishek",
      "photoUrl": "",
      "userId": "06829233220391213420"
     },
     "user_tz": -330
    },
    "id": "AtHXKlq7b3dS",
    "outputId": "fee50f73-c1fa-4241-918e-39d247991329"
   },
   "outputs": [
    {
     "data": {
      "text/plain": [
       "15"
      ]
     },
     "execution_count": 105,
     "metadata": {
      "tags": []
     },
     "output_type": "execute_result"
    }
   ],
   "source": [
    "numerics = ['int16','int32','int64','float16','float32','float64']\r\n",
    "\r\n",
    "numeric_df = df.select_dtypes(include=numerics)\r\n",
    "len(numeric_df.columns)"
   ]
  },
  {
   "cell_type": "markdown",
   "metadata": {
    "id": "AUp3AECkfrjN"
   },
   "source": [
    "Percentage of missing values per column"
   ]
  },
  {
   "cell_type": "code",
   "execution_count": 106,
   "metadata": {
    "colab": {
     "base_uri": "https://localhost:8080/"
    },
    "executionInfo": {
     "elapsed": 170830,
     "status": "ok",
     "timestamp": 1614898683626,
     "user": {
      "displayName": "abhishek",
      "photoUrl": "",
      "userId": "06829233220391213420"
     },
     "user_tz": -330
    },
    "id": "DIZyhLMpbloF",
    "outputId": "7eaad796-5a75-4b45-b2e5-86b11f974d04"
   },
   "outputs": [
    {
     "data": {
      "text/plain": [
       "End_Lat                  6.418076e-01\n",
       "End_Lng                  6.418076e-01\n",
       "Number                   6.350674e-01\n",
       "Precipitation(in)        4.880258e-01\n",
       "Wind_Chill(F)            4.479581e-01\n",
       "TMC                      3.581924e-01\n",
       "Wind_Speed(mph)          1.132478e-01\n",
       "Visibility(mi)           2.331176e-02\n",
       "Weather_Condition        2.324443e-02\n",
       "Humidity(%)              2.255548e-02\n",
       "Temperature(F)           2.124020e-02\n",
       "Wind_Direction           1.975433e-02\n",
       "Pressure(in)             1.804684e-02\n",
       "Weather_Timestamp        1.480057e-02\n",
       "Airport_Code             2.120003e-03\n",
       "Timezone                 1.090362e-03\n",
       "Zipcode                  3.052540e-04\n",
       "Nautical_Twilight        3.331332e-05\n",
       "Astronomical_Twilight    3.331332e-05\n",
       "Civil_Twilight           3.331332e-05\n",
       "Sunrise_Sunset           3.331332e-05\n",
       "City                     3.236826e-05\n",
       "Description              4.725294e-07\n",
       "Amenity                  0.000000e+00\n",
       "Street                   0.000000e+00\n",
       "Source                   0.000000e+00\n",
       "Severity                 0.000000e+00\n",
       "Start_Time               0.000000e+00\n",
       "End_Time                 0.000000e+00\n",
       "Start_Lat                0.000000e+00\n",
       "Start_Lng                0.000000e+00\n",
       "Turning_Loop             0.000000e+00\n",
       "Distance(mi)             0.000000e+00\n",
       "Traffic_Signal           0.000000e+00\n",
       "Side                     0.000000e+00\n",
       "Bump                     0.000000e+00\n",
       "County                   0.000000e+00\n",
       "State                    0.000000e+00\n",
       "Traffic_Calming          0.000000e+00\n",
       "Country                  0.000000e+00\n",
       "Stop                     0.000000e+00\n",
       "Station                  0.000000e+00\n",
       "Roundabout               0.000000e+00\n",
       "Railway                  0.000000e+00\n",
       "No_Exit                  0.000000e+00\n",
       "Junction                 0.000000e+00\n",
       "Give_Way                 0.000000e+00\n",
       "Crossing                 0.000000e+00\n",
       "ID                       0.000000e+00\n",
       "dtype: float64"
      ]
     },
     "execution_count": 106,
     "metadata": {
      "tags": []
     },
     "output_type": "execute_result"
    }
   ],
   "source": [
    "missing_percentage = df.isna().sum().sort_values(ascending=False)/len(df)\r\n",
    "missing_percentage"
   ]
  },
  {
   "cell_type": "code",
   "execution_count": 107,
   "metadata": {
    "colab": {
     "base_uri": "https://localhost:8080/"
    },
    "executionInfo": {
     "elapsed": 170825,
     "status": "ok",
     "timestamp": 1614898683626,
     "user": {
      "displayName": "abhishek",
      "photoUrl": "",
      "userId": "06829233220391213420"
     },
     "user_tz": -330
    },
    "id": "C9NWCRzVeQX3",
    "outputId": "4f99559e-9983-4e4b-b3bd-700817c1a505"
   },
   "outputs": [
    {
     "data": {
      "text/plain": [
       "pandas.core.series.Series"
      ]
     },
     "execution_count": 107,
     "metadata": {
      "tags": []
     },
     "output_type": "execute_result"
    }
   ],
   "source": [
    "type(missing_percentage)"
   ]
  },
  {
   "cell_type": "code",
   "execution_count": 108,
   "metadata": {
    "colab": {
     "base_uri": "https://localhost:8080/",
     "height": 0
    },
    "executionInfo": {
     "elapsed": 171678,
     "status": "ok",
     "timestamp": 1614898684485,
     "user": {
      "displayName": "abhishek",
      "photoUrl": "",
      "userId": "06829233220391213420"
     },
     "user_tz": -330
    },
    "id": "jWfNQdk6eQos",
    "outputId": "32798321-c4fe-43b1-8f93-2d805c81896d"
   },
   "outputs": [
    {
     "data": {
      "text/plain": [
       "<matplotlib.axes._subplots.AxesSubplot at 0x7fe22d94aad0>"
      ]
     },
     "execution_count": 108,
     "metadata": {
      "tags": []
     },
     "output_type": "execute_result"
    },
    {
     "data": {
      "image/png": "[encoded data removed]",
      "text/plain": [
       "<Figure size 432x288 with 1 Axes>"
      ]
     },
     "metadata": {
      "tags": []
     },
     "output_type": "display_data"
    }
   ],
   "source": [
    "missing_percentage[missing_percentage !=0 ].plot(kind='barh')"
   ]
  },
  {
   "cell_type": "markdown",
   "metadata": {
    "id": "wJ7oXNH0hpSK"
   },
   "source": [
    "Remove columns that you don't want to use"
   ]
  },
  {
   "cell_type": "code",
   "execution_count": 108,
   "metadata": {
    "executionInfo": {
     "elapsed": 171677,
     "status": "ok",
     "timestamp": 1614898684486,
     "user": {
      "displayName": "abhishek",
      "photoUrl": "",
      "userId": "06829233220391213420"
     },
     "user_tz": -330
    },
    "id": "VhlS7XJBhnqh"
   },
   "outputs": [],
   "source": []
  },
  {
   "cell_type": "code",
   "execution_count": 108,
   "metadata": {
    "executionInfo": {
     "elapsed": 171676,
     "status": "ok",
     "timestamp": 1614898684487,
     "user": {
      "displayName": "abhishek",
      "photoUrl": "",
      "userId": "06829233220391213420"
     },
     "user_tz": -330
    },
    "id": "TrNivMyRhoK_"
   },
   "outputs": [],
   "source": []
  },
  {
   "cell_type": "markdown",
   "metadata": {
    "id": "hyN5PM5bXj2e"
   },
   "source": [
    "## Exploratory Analysis and Visualization\r\n",
    "\r\n",
    "Columns we'll analyse\r\n",
    "1. City\r\n",
    "2. Start Time\r\n",
    "3. Start_Lat,Start Lng\r\n",
    "4. Temperature\r\n",
    "5. Weather Condition"
   ]
  },
  {
   "cell_type": "code",
   "execution_count": 109,
   "metadata": {
    "colab": {
     "base_uri": "https://localhost:8080/"
    },
    "executionInfo": {
     "elapsed": 171671,
     "status": "ok",
     "timestamp": 1614898684487,
     "user": {
      "displayName": "abhishek",
      "photoUrl": "",
      "userId": "06829233220391213420"
     },
     "user_tz": -330
    },
    "id": "Az3N0MWAXPWU",
    "outputId": "b01b9c0a-ebc8-41f5-fb87-05c13ff0f14d"
   },
   "outputs": [
    {
     "data": {
      "text/plain": [
       "Index(['ID', 'Source', 'TMC', 'Severity', 'Start_Time', 'End_Time',\n",
       "       'Start_Lat', 'Start_Lng', 'End_Lat', 'End_Lng', 'Distance(mi)',\n",
       "       'Description', 'Number', 'Street', 'Side', 'City', 'County', 'State',\n",
       "       'Zipcode', 'Country', 'Timezone', 'Airport_Code', 'Weather_Timestamp',\n",
       "       'Temperature(F)', 'Wind_Chill(F)', 'Humidity(%)', 'Pressure(in)',\n",
       "       'Visibility(mi)', 'Wind_Direction', 'Wind_Speed(mph)',\n",
       "       'Precipitation(in)', 'Weather_Condition', 'Amenity', 'Bump', 'Crossing',\n",
       "       'Give_Way', 'Junction', 'No_Exit', 'Railway', 'Roundabout', 'Station',\n",
       "       'Stop', 'Traffic_Calming', 'Traffic_Signal', 'Turning_Loop',\n",
       "       'Sunrise_Sunset', 'Civil_Twilight', 'Nautical_Twilight',\n",
       "       'Astronomical_Twilight'],\n",
       "      dtype='object')"
      ]
     },
     "execution_count": 109,
     "metadata": {
      "tags": []
     },
     "output_type": "execute_result"
    }
   ],
   "source": [
    "df.columns"
   ]
  },
  {
   "cell_type": "markdown",
   "metadata": {
    "id": "3IN9eu0Rs1a0"
   },
   "source": [
    "### City"
   ]
  },
  {
   "cell_type": "code",
   "execution_count": 110,
   "metadata": {
    "colab": {
     "base_uri": "https://localhost:8080/"
    },
    "executionInfo": {
     "elapsed": 171666,
     "status": "ok",
     "timestamp": 1614898684488,
     "user": {
      "displayName": "abhishek",
      "photoUrl": "",
      "userId": "06829233220391213420"
     },
     "user_tz": -330
    },
    "id": "Ab_nYNcsXow4",
    "outputId": "af83f3ca-9ba7-4950-8959-eaf426ff7aca"
   },
   "outputs": [
    {
     "data": {
      "text/plain": [
       "0                Dayton\n",
       "1          Reynoldsburg\n",
       "2          Williamsburg\n",
       "3                Dayton\n",
       "4                Dayton\n",
       "               ...     \n",
       "4232536       Riverside\n",
       "4232537       San Diego\n",
       "4232538          Orange\n",
       "4232539     Culver City\n",
       "4232540        Highland\n",
       "Name: City, Length: 4232541, dtype: object"
      ]
     },
     "execution_count": 110,
     "metadata": {
      "tags": []
     },
     "output_type": "execute_result"
    }
   ],
   "source": [
    "df.City"
   ]
  },
  {
   "cell_type": "code",
   "execution_count": 111,
   "metadata": {
    "colab": {
     "base_uri": "https://localhost:8080/"
    },
    "executionInfo": {
     "elapsed": 171661,
     "status": "ok",
     "timestamp": 1614898684489,
     "user": {
      "displayName": "abhishek",
      "photoUrl": "",
      "userId": "06829233220391213420"
     },
     "user_tz": -330
    },
    "id": "-cLoNaUVimOM",
    "outputId": "2b032f14-5fa3-47da-e7d0-d6a54084e2b9"
   },
   "outputs": [
    {
     "data": {
      "text/plain": [
       "12251"
      ]
     },
     "execution_count": 111,
     "metadata": {
      "tags": []
     },
     "output_type": "execute_result"
    }
   ],
   "source": [
    "cities = df.City.unique()\r\n",
    "len(cities)"
   ]
  },
  {
   "cell_type": "code",
   "execution_count": 112,
   "metadata": {
    "colab": {
     "base_uri": "https://localhost:8080/"
    },
    "executionInfo": {
     "elapsed": 172190,
     "status": "ok",
     "timestamp": 1614898685024,
     "user": {
      "displayName": "abhishek",
      "photoUrl": "",
      "userId": "06829233220391213420"
     },
     "user_tz": -330
    },
    "id": "czpk_eRHjJ9L",
    "outputId": "1c064aec-3286-430b-c11d-7796e10fe02c"
   },
   "outputs": [
    {
     "data": {
      "text/plain": [
       "Houston        114905\n",
       "Los Angeles     92701\n",
       "Charlotte       88887\n",
       "Dallas          77303\n",
       "Austin          70538\n",
       "                ...  \n",
       "Claryville          1\n",
       "Guys Mills          1\n",
       "Molt                1\n",
       "Hagaman             1\n",
       "Tabernash           1\n",
       "Name: City, Length: 12250, dtype: int64"
      ]
     },
     "execution_count": 112,
     "metadata": {
      "tags": []
     },
     "output_type": "execute_result"
    }
   ],
   "source": [
    "cities_by_accident = df.City.value_counts()\r\n",
    "cities_by_accident"
   ]
  },
  {
   "cell_type": "code",
   "execution_count": 113,
   "metadata": {
    "colab": {
     "base_uri": "https://localhost:8080/"
    },
    "executionInfo": {
     "elapsed": 172184,
     "status": "ok",
     "timestamp": 1614898685024,
     "user": {
      "displayName": "abhishek",
      "photoUrl": "",
      "userId": "06829233220391213420"
     },
     "user_tz": -330
    },
    "id": "mrHM0jiAXpFB",
    "outputId": "4c1e2c86-bc7a-4362-e61d-b0962a6a94be"
   },
   "outputs": [
    {
     "data": {
      "text/plain": [
       "Houston          114905\n",
       "Los Angeles       92701\n",
       "Charlotte         88887\n",
       "Dallas            77303\n",
       "Austin            70538\n",
       "Miami             63162\n",
       "Raleigh           52876\n",
       "Atlanta           46328\n",
       "Baton Rouge       42814\n",
       "Nashville         41850\n",
       "Orlando           39561\n",
       "Oklahoma City     39484\n",
       "Sacramento        38061\n",
       "Phoenix           32805\n",
       "Minneapolis       31781\n",
       "San Diego         29416\n",
       "Seattle           28004\n",
       "Richmond          27907\n",
       "San Antonio       27516\n",
       "Jacksonville      24009\n",
       "Name: City, dtype: int64"
      ]
     },
     "execution_count": 113,
     "metadata": {
      "tags": []
     },
     "output_type": "execute_result"
    }
   ],
   "source": [
    "cities_by_accident.head(20)"
   ]
  },
  {
   "cell_type": "markdown",
   "metadata": {
    "id": "p_eZNgBiawXC"
   },
   "source": []
  },
  {
   "cell_type": "code",
   "execution_count": 114,
   "metadata": {
    "colab": {
     "base_uri": "https://localhost:8080/"
    },
    "executionInfo": {
     "elapsed": 172179,
     "status": "ok",
     "timestamp": 1614898685025,
     "user": {
      "displayName": "abhishek",
      "photoUrl": "",
      "userId": "06829233220391213420"
     },
     "user_tz": -330
    },
    "id": "pUq0GFl1ljt-",
    "outputId": "3424b3d1-9d0e-4255-e727-93f03322abf5"
   },
   "outputs": [
    {
     "data": {
      "text/plain": [
       "10255"
      ]
     },
     "execution_count": 114,
     "metadata": {
      "tags": []
     },
     "output_type": "execute_result"
    }
   ],
   "source": [
    "dict(cities_by_accident)['New York']"
   ]
  },
  {
   "cell_type": "code",
   "execution_count": 115,
   "metadata": {
    "colab": {
     "base_uri": "https://localhost:8080/",
     "height": 282
    },
    "executionInfo": {
     "elapsed": 172756,
     "status": "ok",
     "timestamp": 1614898685609,
     "user": {
      "displayName": "abhishek",
      "photoUrl": "",
      "userId": "06829233220391213420"
     },
     "user_tz": -330
    },
    "id": "ttV1CT8BnR12",
    "outputId": "ddb88e2d-d994-4709-9dbd-e8e035817b3e"
   },
   "outputs": [
    {
     "data": {
      "text/plain": [
       "<matplotlib.axes._subplots.AxesSubplot at 0x7fe109e73b50>"
      ]
     },
     "execution_count": 115,
     "metadata": {
      "tags": []
     },
     "output_type": "execute_result"
    },
    {
     "data": {
      "image/png": "[encoded data removed]",
      "text/plain": [
       "<Figure size 432x288 with 1 Axes>"
      ]
     },
     "metadata": {
      "tags": []
     },
     "output_type": "display_data"
    }
   ],
   "source": [
    "cities_by_accident.head(20).plot(kind='barh')"
   ]
  },
  {
   "cell_type": "code",
   "execution_count": 116,
   "metadata": {
    "executionInfo": {
     "elapsed": 172750,
     "status": "ok",
     "timestamp": 1614898685610,
     "user": {
      "displayName": "abhishek",
      "photoUrl": "",
      "userId": "06829233220391213420"
     },
     "user_tz": -330
    },
    "id": "_Mj4W5HzlkJJ"
   },
   "outputs": [],
   "source": [
    "import seaborn as sns\r\n",
    "sns.set_style(\"darkgrid\")"
   ]
  },
  {
   "cell_type": "code",
   "execution_count": 117,
   "metadata": {
    "colab": {
     "base_uri": "https://localhost:8080/",
     "height": 300
    },
    "executionInfo": {
     "elapsed": 173984,
     "status": "ok",
     "timestamp": 1614898686849,
     "user": {
      "displayName": "abhishek",
      "photoUrl": "",
      "userId": "06829233220391213420"
     },
     "user_tz": -330
    },
    "id": "t9ZF2IPAoPPi",
    "outputId": "a65e05b3-91c1-47c3-9967-83d684f34a95"
   },
   "outputs": [
    {
     "data": {
      "text/plain": [
       "<matplotlib.axes._subplots.AxesSubplot at 0x7fe109993250>"
      ]
     },
     "execution_count": 117,
     "metadata": {
      "tags": []
     },
     "output_type": "execute_result"
    },
    {
     "data": {
      "image/png": "[encoded data removed]",
      "text/plain": [
       "<Figure size 432x288 with 1 Axes>"
      ]
     },
     "metadata": {
      "tags": []
     },
     "output_type": "display_data"
    }
   ],
   "source": [
    "sns.histplot(cities_by_accident,log_scale=True)"
   ]
  },
  {
   "cell_type": "code",
   "execution_count": 118,
   "metadata": {
    "colab": {
     "base_uri": "https://localhost:8080/"
    },
    "executionInfo": {
     "elapsed": 173978,
     "status": "ok",
     "timestamp": 1614898686850,
     "user": {
      "displayName": "abhishek",
      "photoUrl": "",
      "userId": "06829233220391213420"
     },
     "user_tz": -330
    },
    "id": "x_NSWMpWrldg",
    "outputId": "c2b1335c-d2b0-4b55-c604-e2d9d3af00b6"
   },
   "outputs": [
    {
     "data": {
      "text/plain": [
       "Brainard         1\n",
       "Masury           1\n",
       "Wannaska         1\n",
       "Robeline         1\n",
       "Blounts Creek    1\n",
       "                ..\n",
       "Claryville       1\n",
       "Guys Mills       1\n",
       "Molt             1\n",
       "Hagaman          1\n",
       "Tabernash        1\n",
       "Name: City, Length: 1267, dtype: int64"
      ]
     },
     "execution_count": 118,
     "metadata": {
      "tags": []
     },
     "output_type": "execute_result"
    }
   ],
   "source": [
    "cities_by_accident[cities_by_accident==1]"
   ]
  },
  {
   "cell_type": "code",
   "execution_count": 119,
   "metadata": {
    "executionInfo": {
     "elapsed": 173972,
     "status": "ok",
     "timestamp": 1614898686850,
     "user": {
      "displayName": "abhishek",
      "photoUrl": "",
      "userId": "06829233220391213420"
     },
     "user_tz": -330
    },
    "id": "3UO76JCXoN7u"
   },
   "outputs": [],
   "source": [
    "high_accident_cities = cities_by_accident[cities_by_accident >= 1000]\r\n",
    "low_accident_cities = cities_by_accident[cities_by_accident < 1000]"
   ]
  },
  {
   "cell_type": "code",
   "execution_count": 120,
   "metadata": {
    "colab": {
     "base_uri": "https://localhost:8080/"
    },
    "executionInfo": {
     "elapsed": 173969,
     "status": "ok",
     "timestamp": 1614898686851,
     "user": {
      "displayName": "abhishek",
      "photoUrl": "",
      "userId": "06829233220391213420"
     },
     "user_tz": -330
    },
    "id": "QbH53abppt5e",
    "outputId": "8f821a0f-ac44-4bb0-d252-5397a38524ad"
   },
   "outputs": [
    {
     "data": {
      "text/plain": [
       "0.05746469675944821"
      ]
     },
     "execution_count": 120,
     "metadata": {
      "tags": []
     },
     "output_type": "execute_result"
    }
   ],
   "source": [
    "len(high_accident_cities)/len(cities)"
   ]
  },
  {
   "cell_type": "code",
   "execution_count": 121,
   "metadata": {
    "colab": {
     "base_uri": "https://localhost:8080/",
     "height": 350
    },
    "executionInfo": {
     "elapsed": 174659,
     "status": "ok",
     "timestamp": 1614898687548,
     "user": {
      "displayName": "abhishek",
      "photoUrl": "",
      "userId": "06829233220391213420"
     },
     "user_tz": -330
    },
    "id": "Lk2IToe6pXiJ",
    "outputId": "225701b7-ff58-495d-b048-20336c9cc029"
   },
   "outputs": [
    {
     "name": "stderr",
     "output_type": "stream",
     "text": [
      "/usr/local/lib/python3.7/dist-packages/seaborn/distributions.py:2557: FutureWarning: `distplot` is a deprecated function and will be removed in a future version. Please adapt your code to use either `displot` (a figure-level function with similar flexibility) or `histplot` (an axes-level function for histograms).\n",
      "  warnings.warn(msg, FutureWarning)\n"
     ]
    },
    {
     "data": {
      "text/plain": [
       "<matplotlib.axes._subplots.AxesSubplot at 0x7fe10973bc90>"
      ]
     },
     "execution_count": 121,
     "metadata": {
      "tags": []
     },
     "output_type": "execute_result"
    },
    {
     "data": {
      "image/png": "[encoded data removed]",
      "text/plain": [
       "<Figure size 432x288 with 1 Axes>"
      ]
     },
     "metadata": {
      "tags": []
     },
     "output_type": "display_data"
    }
   ],
   "source": [
    "sns.distplot(high_accident_cities)"
   ]
  },
  {
   "cell_type": "markdown",
   "metadata": {
    "id": "TWiOX8QcstmA"
   },
   "source": [
    "### Start Time"
   ]
  },
  {
   "cell_type": "code",
   "execution_count": 122,
   "metadata": {
    "colab": {
     "base_uri": "https://localhost:8080/"
    },
    "executionInfo": {
     "elapsed": 174653,
     "status": "ok",
     "timestamp": 1614898687549,
     "user": {
      "displayName": "abhishek",
      "photoUrl": "",
      "userId": "06829233220391213420"
     },
     "user_tz": -330
    },
    "id": "kswKR9OOsmfE",
    "outputId": "2f57c336-4d26-4b46-c34c-94b803674a41"
   },
   "outputs": [
    {
     "data": {
      "text/plain": [
       "0          2016-02-08 05:46:00\n",
       "1          2016-02-08 06:07:59\n",
       "2          2016-02-08 06:49:27\n",
       "3          2016-02-08 07:23:34\n",
       "4          2016-02-08 07:39:07\n",
       "                  ...         \n",
       "4232536    2019-08-23 18:03:25\n",
       "4232537    2019-08-23 19:11:30\n",
       "4232538    2019-08-23 19:00:21\n",
       "4232539    2019-08-23 19:00:21\n",
       "4232540    2019-08-23 18:52:06\n",
       "Name: Start_Time, Length: 4232541, dtype: object"
      ]
     },
     "execution_count": 122,
     "metadata": {
      "tags": []
     },
     "output_type": "execute_result"
    }
   ],
   "source": [
    "df.Start_Time"
   ]
  },
  {
   "cell_type": "code",
   "execution_count": 123,
   "metadata": {
    "executionInfo": {
     "elapsed": 176055,
     "status": "ok",
     "timestamp": 1614898688956,
     "user": {
      "displayName": "abhishek",
      "photoUrl": "",
      "userId": "06829233220391213420"
     },
     "user_tz": -330
    },
    "id": "ceHiRyKWslz7"
   },
   "outputs": [],
   "source": [
    "df.Start_Time = pd.to_datetime(df.Start_Time)"
   ]
  },
  {
   "cell_type": "code",
   "execution_count": 124,
   "metadata": {
    "colab": {
     "base_uri": "https://localhost:8080/",
     "height": 0
    },
    "executionInfo": {
     "elapsed": 176818,
     "status": "ok",
     "timestamp": 1614898689723,
     "user": {
      "displayName": "abhishek",
      "photoUrl": "",
      "userId": "06829233220391213420"
     },
     "user_tz": -330
    },
    "id": "4vBBk_Gvqfsg",
    "outputId": "8f8fa0e6-2543-4157-bb85-a79f05a8c679"
   },
   "outputs": [
    {
     "name": "stderr",
     "output_type": "stream",
     "text": [
      "/usr/local/lib/python3.7/dist-packages/seaborn/distributions.py:2557: FutureWarning: `distplot` is a deprecated function and will be removed in a future version. Please adapt your code to use either `displot` (a figure-level function with similar flexibility) or `histplot` (an axes-level function for histograms).\n",
      "  warnings.warn(msg, FutureWarning)\n"
     ]
    },
    {
     "data": {
      "text/plain": [
       "<matplotlib.axes._subplots.AxesSubplot at 0x7fe109671750>"
      ]
     },
     "execution_count": 124,
     "metadata": {
      "tags": []
     },
     "output_type": "execute_result"
    },
    {
     "data": {
      "image/png": "[encoded data removed]",
      "text/plain": [
       "<Figure size 432x288 with 1 Axes>"
      ]
     },
     "metadata": {
      "tags": []
     },
     "output_type": "display_data"
    }
   ],
   "source": [
    "sns.distplot(df.Start_Time.dt.hour,bins=24,kde=False,norm_hist=True)"
   ]
  },
  {
   "cell_type": "markdown",
   "metadata": {
    "id": "aZinavbZ26YZ"
   },
   "source": [
    "- A high percentage of accidents occur between 7 am to 9 am (probably people are in a hurry to get to work)\r\n",
    "- Next higest percentage spike  is 3 p to 6 pm."
   ]
  },
  {
   "cell_type": "code",
   "execution_count": 125,
   "metadata": {
    "colab": {
     "base_uri": "https://localhost:8080/",
     "height": 0
    },
    "executionInfo": {
     "elapsed": 178165,
     "status": "ok",
     "timestamp": 1614898691079,
     "user": {
      "displayName": "abhishek",
      "photoUrl": "",
      "userId": "06829233220391213420"
     },
     "user_tz": -330
    },
    "id": "yh80MwXXu_eo",
    "outputId": "39aa5f70-3687-4514-df0a-4e72d3123c32"
   },
   "outputs": [
    {
     "name": "stderr",
     "output_type": "stream",
     "text": [
      "/usr/local/lib/python3.7/dist-packages/seaborn/distributions.py:2557: FutureWarning: `distplot` is a deprecated function and will be removed in a future version. Please adapt your code to use either `displot` (a figure-level function with similar flexibility) or `histplot` (an axes-level function for histograms).\n",
      "  warnings.warn(msg, FutureWarning)\n"
     ]
    },
    {
     "data": {
      "text/plain": [
       "<matplotlib.axes._subplots.AxesSubplot at 0x7fe1096145d0>"
      ]
     },
     "execution_count": 125,
     "metadata": {
      "tags": []
     },
     "output_type": "execute_result"
    },
    {
     "data": {
      "image/png": "[encoded data removed]",
      "text/plain": [
       "<Figure size 432x288 with 1 Axes>"
      ]
     },
     "metadata": {
      "tags": []
     },
     "output_type": "display_data"
    }
   ],
   "source": [
    "sns.distplot(df.Start_Time.dt.dayofweek,bins=7,kde=False,norm_hist=True)"
   ]
  },
  {
   "cell_type": "markdown",
   "metadata": {
    "id": "uB0hcEO84m5L"
   },
   "source": [
    "Is the distribution of accidents by hour the same on weekends as on weekdays"
   ]
  },
  {
   "cell_type": "code",
   "execution_count": 126,
   "metadata": {
    "colab": {
     "base_uri": "https://localhost:8080/",
     "height": 0
    },
    "executionInfo": {
     "elapsed": 178637,
     "status": "ok",
     "timestamp": 1614898691558,
     "user": {
      "displayName": "abhishek",
      "photoUrl": "",
      "userId": "06829233220391213420"
     },
     "user_tz": -330
    },
    "id": "ZZTt36Egu_ay",
    "outputId": "5a38c20f-f708-4360-cc56-8619da315691"
   },
   "outputs": [
    {
     "name": "stderr",
     "output_type": "stream",
     "text": [
      "/usr/local/lib/python3.7/dist-packages/seaborn/distributions.py:2557: FutureWarning: `distplot` is a deprecated function and will be removed in a future version. Please adapt your code to use either `displot` (a figure-level function with similar flexibility) or `histplot` (an axes-level function for histograms).\n",
      "  warnings.warn(msg, FutureWarning)\n"
     ]
    },
    {
     "data": {
      "text/plain": [
       "<matplotlib.axes._subplots.AxesSubplot at 0x7fe1096ea050>"
      ]
     },
     "execution_count": 126,
     "metadata": {
      "tags": []
     },
     "output_type": "execute_result"
    },
    {
     "data": {
      "image/png": "[encoded data removed]",
      "text/plain": [
       "<Figure size 432x288 with 1 Axes>"
      ]
     },
     "metadata": {
      "tags": []
     },
     "output_type": "display_data"
    }
   ],
   "source": [
    "sundays_start_time = df.Start_Time[df.Start_Time.dt.dayofweek == 6]\r\n",
    "sns.distplot(sundays_start_time.dt.hour,bins=24,kde=False,norm_hist=True)"
   ]
  },
  {
   "cell_type": "code",
   "execution_count": 127,
   "metadata": {
    "colab": {
     "base_uri": "https://localhost:8080/",
     "height": 0
    },
    "executionInfo": {
     "elapsed": 179971,
     "status": "ok",
     "timestamp": 1614898692900,
     "user": {
      "displayName": "abhishek",
      "photoUrl": "",
      "userId": "06829233220391213420"
     },
     "user_tz": -330
    },
    "id": "66ytE142u_Y5",
    "outputId": "b7d6d0ea-f561-40db-8c91-6d3b64a3f310"
   },
   "outputs": [
    {
     "name": "stderr",
     "output_type": "stream",
     "text": [
      "/usr/local/lib/python3.7/dist-packages/seaborn/distributions.py:2557: FutureWarning: `distplot` is a deprecated function and will be removed in a future version. Please adapt your code to use either `displot` (a figure-level function with similar flexibility) or `histplot` (an axes-level function for histograms).\n",
      "  warnings.warn(msg, FutureWarning)\n"
     ]
    },
    {
     "data": {
      "text/plain": [
       "<matplotlib.axes._subplots.AxesSubplot at 0x7fe1094cfb10>"
      ]
     },
     "execution_count": 127,
     "metadata": {
      "tags": []
     },
     "output_type": "execute_result"
    },
    {
     "data": {
      "image/png": "[encoded data removed]",
      "text/plain": [
       "<Figure size 432x288 with 1 Axes>"
      ]
     },
     "metadata": {
      "tags": []
     },
     "output_type": "display_data"
    }
   ],
   "source": [
    "mondays_start_time = df.Start_Time[df.Start_Time.dt.dayofweek == 0]\r\n",
    "sns.distplot(mondays_start_time.dt.hour,bins=24,kde=False,norm_hist=True)"
   ]
  },
  {
   "cell_type": "markdown",
   "metadata": {
    "id": "DjYIjFkk5ujm"
   },
   "source": [
    "On Sundays, the peak occurs between 10 an and 3 pm, unlike Weekdays"
   ]
  },
  {
   "cell_type": "code",
   "execution_count": 128,
   "metadata": {
    "executionInfo": {
     "elapsed": 179964,
     "status": "ok",
     "timestamp": 1614898692901,
     "user": {
      "displayName": "abhishek",
      "photoUrl": "",
      "userId": "06829233220391213420"
     },
     "user_tz": -330
    },
    "id": "Rxa8xvLu-gaR"
   },
   "outputs": [],
   "source": [
    "import matplotlib.pyplot as plt"
   ]
  },
  {
   "cell_type": "code",
   "execution_count": 129,
   "metadata": {
    "colab": {
     "base_uri": "https://localhost:8080/",
     "height": 0
    },
    "executionInfo": {
     "elapsed": 183169,
     "status": "ok",
     "timestamp": 1614898696113,
     "user": {
      "displayName": "abhishek",
      "photoUrl": "",
      "userId": "06829233220391213420"
     },
     "user_tz": -330
    },
    "id": "yctUK3sCu_WY",
    "outputId": "0ae1678c-648c-427f-997b-278fdc33f7e4"
   },
   "outputs": [
    {
     "name": "stderr",
     "output_type": "stream",
     "text": [
      "/usr/local/lib/python3.7/dist-packages/seaborn/distributions.py:2557: FutureWarning: `distplot` is a deprecated function and will be removed in a future version. Please adapt your code to use either `displot` (a figure-level function with similar flexibility) or `histplot` (an axes-level function for histograms).\n",
      "  warnings.warn(msg, FutureWarning)\n"
     ]
    },
    {
     "data": {
      "image/png": "[encoded data removed]",
      "text/plain": [
       "<Figure size 432x288 with 4 Axes>"
      ]
     },
     "metadata": {
      "tags": []
     },
     "output_type": "display_data"
    }
   ],
   "source": [
    "fig, axes = plt.subplots(2, 2)\r\n",
    "df_2019 = df[df.Start_Time.dt.year==2019]\r\n",
    "df_2019_bing = df_2019[df_2019.Source=='Bing']\r\n",
    "df_2019_mapquest = df_2019[df_2019.Source=='MapQuest']\r\n",
    "sns.distplot(df_2019_mapquest.Start_Time.dt.month,bins=12,kde=False,norm_hist=True,ax=axes[0,0])\r\n",
    "axes[0,0].set_title('Bing')\r\n",
    "sns.distplot(df_2019_bing.Start_Time.dt.month,bins=12,kde=False,norm_hist=True,ax=axes[0,1])\r\n",
    "axes[0,1].set_title('MapQuest')\r\n",
    "sns.distplot(df_2019_mapquest.Start_Time.dt.month,bins=12,kde=False,norm_hist=True,ax=axes[1,1])\r\n",
    "sns.distplot(df_2019_bing.Start_Time.dt.month,bins=12,kde=False,norm_hist=True,ax=axes[1,1])\r\n",
    "axes[1,1].set_title('Both')\r\n",
    "fig.tight_layout()"
   ]
  },
  {
   "cell_type": "markdown",
   "metadata": {
    "id": "QMtvS_3k7JLq"
   },
   "source": [
    "Can you explain the month_wise trend of accidents\r\n",
    "\r\n",
    "- Much data is missing for 2016 ,maybe even 2017\r\n",
    "- There seems to be some isuue with the Bing data"
   ]
  },
  {
   "cell_type": "code",
   "execution_count": 130,
   "metadata": {
    "colab": {
     "base_uri": "https://localhost:8080/",
     "height": 0
    },
    "executionInfo": {
     "elapsed": 183164,
     "status": "ok",
     "timestamp": 1614898696114,
     "user": {
      "displayName": "abhishek",
      "photoUrl": "",
      "userId": "06829233220391213420"
     },
     "user_tz": -330
    },
    "id": "u-oNmXfhu_UA",
    "outputId": "5b16bab3-da13-4bba-ab82-1063196ebd57"
   },
   "outputs": [
    {
     "data": {
      "text/plain": [
       "<matplotlib.axes._subplots.AxesSubplot at 0x7fe10948a690>"
      ]
     },
     "execution_count": 130,
     "metadata": {
      "tags": []
     },
     "output_type": "execute_result"
    },
    {
     "data": {
      "image/png": "[encoded data removed]",
      "text/plain": [
       "<Figure size 432x288 with 1 Axes>"
      ]
     },
     "metadata": {
      "tags": []
     },
     "output_type": "display_data"
    }
   ],
   "source": [
    "df.Source.value_counts().plot(kind='pie')"
   ]
  },
  {
   "cell_type": "markdown",
   "metadata": {
    "id": "AfYUlgHTCcu_"
   },
   "source": [
    "Consider excluding Bing data,seems to have issues"
   ]
  },
  {
   "cell_type": "markdown",
   "metadata": {
    "id": "X_LFeBAkCvZP"
   },
   "source": [
    "### Start Latitude & Longitude"
   ]
  },
  {
   "cell_type": "code",
   "execution_count": 131,
   "metadata": {
    "colab": {
     "base_uri": "https://localhost:8080/"
    },
    "executionInfo": {
     "elapsed": 183158,
     "status": "ok",
     "timestamp": 1614898696114,
     "user": {
      "displayName": "abhishek",
      "photoUrl": "",
      "userId": "06829233220391213420"
     },
     "user_tz": -330
    },
    "id": "W90UqXuzu_Q3",
    "outputId": "c5a157d0-4ae3-46de-f279-3c34250c68c7"
   },
   "outputs": [
    {
     "data": {
      "text/plain": [
       "0          39.865147\n",
       "1          39.928059\n",
       "2          39.063148\n",
       "3          39.747753\n",
       "4          39.627781\n",
       "             ...    \n",
       "4232536    34.002480\n",
       "4232537    32.766960\n",
       "4232538    33.775450\n",
       "4232539    33.992460\n",
       "4232540    34.133930\n",
       "Name: Start_Lat, Length: 4232541, dtype: float64"
      ]
     },
     "execution_count": 131,
     "metadata": {
      "tags": []
     },
     "output_type": "execute_result"
    }
   ],
   "source": [
    "df.Start_Lat"
   ]
  },
  {
   "cell_type": "code",
   "execution_count": 132,
   "metadata": {
    "colab": {
     "base_uri": "https://localhost:8080/"
    },
    "executionInfo": {
     "elapsed": 183154,
     "status": "ok",
     "timestamp": 1614898696115,
     "user": {
      "displayName": "abhishek",
      "photoUrl": "",
      "userId": "06829233220391213420"
     },
     "user_tz": -330
    },
    "id": "WC8hIYpgu_N6",
    "outputId": "f319c2fc-07ad-47ba-ebd7-bb5fc8068c66"
   },
   "outputs": [
    {
     "data": {
      "text/plain": [
       "0          -84.058723\n",
       "1          -82.831184\n",
       "2          -84.032608\n",
       "3          -84.205582\n",
       "4          -84.188354\n",
       "              ...    \n",
       "4232536   -117.379360\n",
       "4232537   -117.148060\n",
       "4232538   -117.847790\n",
       "4232539   -118.403020\n",
       "4232540   -117.230920\n",
       "Name: Start_Lng, Length: 4232541, dtype: float64"
      ]
     },
     "execution_count": 132,
     "metadata": {
      "tags": []
     },
     "output_type": "execute_result"
    }
   ],
   "source": [
    "df.Start_Lng"
   ]
  },
  {
   "cell_type": "code",
   "execution_count": 133,
   "metadata": {
    "colab": {
     "base_uri": "https://localhost:8080/"
    },
    "executionInfo": {
     "elapsed": 183588,
     "status": "ok",
     "timestamp": 1614898696553,
     "user": {
      "displayName": "abhishek",
      "photoUrl": "",
      "userId": "06829233220391213420"
     },
     "user_tz": -330
    },
    "id": "lhJszC3rIkdz",
    "outputId": "5281e86d-3b70-440c-e452-abdec8a3284b"
   },
   "outputs": [
    {
     "name": "stdout",
     "output_type": "stream",
     "text": [
      "('Start_Lat', 2266071    29.660389\n",
      "2016858    36.021786\n",
      "3506642    26.027920\n",
      "2867295    37.781310\n",
      "3248099    38.120815\n",
      "             ...    \n",
      "2162926    35.720661\n",
      "1243923    35.797531\n",
      "2434649    43.154366\n",
      "688381     34.035675\n",
      "2596815    30.439068\n",
      "Name: Start_Lat, Length: 100, dtype: float64)\n",
      "('Start_Lng', 2266071    -82.419434\n",
      "2016858    -95.886513\n",
      "3506642    -80.165730\n",
      "2867295   -122.173840\n",
      "3248099   -120.496850\n",
      "              ...    \n",
      "2162926    -78.843765\n",
      "1243923    -78.734131\n",
      "2434649    -77.630394\n",
      "688381     -81.023102\n",
      "2596815    -91.187752\n",
      "Name: Start_Lng, Length: 100, dtype: float64)\n"
     ]
    }
   ],
   "source": [
    "for x in df[['Start_Lat','Start_Lng']].sample(100).iteritems():\r\n",
    "  print(x)"
   ]
  },
  {
   "cell_type": "code",
   "execution_count": 134,
   "metadata": {
    "executionInfo": {
     "elapsed": 184507,
     "status": "ok",
     "timestamp": 1614898697477,
     "user": {
      "displayName": "abhishek",
      "photoUrl": "",
      "userId": "06829233220391213420"
     },
     "user_tz": -330
    },
    "id": "ys0DBQtQq7cO"
   },
   "outputs": [],
   "source": [
    "sample_df = df.sample(int(0.01 * len(df)))\r\n"
   ]
  },
  {
   "cell_type": "code",
   "execution_count": 135,
   "metadata": {
    "executionInfo": {
     "elapsed": 184505,
     "status": "ok",
     "timestamp": 1614898697479,
     "user": {
      "displayName": "abhishek",
      "photoUrl": "",
      "userId": "06829233220391213420"
     },
     "user_tz": -330
    },
    "id": "zqPXmUXmE-Cr"
   },
   "outputs": [],
   "source": [
    "import folium"
   ]
  },
  {
   "cell_type": "code",
   "execution_count": 136,
   "metadata": {
    "colab": {
     "base_uri": "https://localhost:8080/"
    },
    "executionInfo": {
     "elapsed": 184500,
     "status": "ok",
     "timestamp": 1614898697479,
     "user": {
      "displayName": "abhishek",
      "photoUrl": "",
      "userId": "06829233220391213420"
     },
     "user_tz": -330
    },
    "id": "qwFhta56Nbhk",
    "outputId": "eeab2301-c106-4e1e-df8a-f9208118b559"
   },
   "outputs": [
    {
     "name": "stdout",
     "output_type": "stream",
     "text": [
      "39.865147 -84.058723\n",
      "39.928059000000005 -82.831184\n",
      "39.063148 -84.032608\n",
      "39.747753 -84.20558199999999\n",
      "39.627781 -84.188354\n",
      "40.100590000000004 -82.92519399999999\n",
      "39.758274 -84.23050699999999\n",
      "39.770382 -84.194901\n",
      "39.778061 -84.172005\n",
      "40.100590000000004 -82.92519399999999\n"
     ]
    }
   ],
   "source": [
    "for i in list(df.Start_Lat[:10]):\r\n",
    "  print(i,df.Start_Lng[list(df.Start_Lat[:10]).index(i)])"
   ]
  },
  {
   "cell_type": "code",
   "execution_count": 137,
   "metadata": {
    "executionInfo": {
     "elapsed": 184496,
     "status": "ok",
     "timestamp": 1614898697480,
     "user": {
      "displayName": "abhishek",
      "photoUrl": "",
      "userId": "06829233220391213420"
     },
     "user_tz": -330
    },
    "id": "XTz6HjdLWavA"
   },
   "outputs": [],
   "source": [
    "sample_df = df.sample(int(0.001 * len(df)))\r\n",
    "lat_lon_pairs = list(zip(list(sample_df.Start_Lat),list(sample_df.Start_Lng)))\r\n"
   ]
  },
  {
   "cell_type": "code",
   "execution_count": null,
   "metadata": {
    "id": "sqOiGpc7FMod"
   },
   "outputs": [],
   "source": [
    "map = folium.Map()\r\n",
    "for i in range(len(lat_lon_pairs)):\r\n",
    "  lat = lat_lon_pairs[i][0]\r\n",
    "  lon = lat_lon_pairs[i][1]\r\n",
    "  marker = folium.Marker((lat,lon))\r\n",
    "  marker.add_to(map)\r\n",
    "map"
   ]
  },
  {
   "cell_type": "code",
   "execution_count": null,
   "metadata": {
    "id": "Lj7x1cVzO8l-"
   },
   "outputs": [],
   "source": [
    "from folium.plugins import HeatMap"
   ]
  },
  {
   "cell_type": "code",
   "execution_count": null,
   "metadata": {
    "id": "_Ut1Ja8IRKOw"
   },
   "outputs": [],
   "source": [
    "sample_df = df.sample(int(0.01 * len(df)))\r\n",
    "lat_lon_pairs = list(zip(list(sample_df.Start_Lat),list(sample_df.Start_Lng)))\r\n"
   ]
  },
  {
   "cell_type": "code",
   "execution_count": null,
   "metadata": {
    "id": "CIQZrX1YVUEL"
   },
   "outputs": [],
   "source": [
    "map = folium.Map()\r\n",
    "HeatMap(lat_lon_pairs).add_to(map)\r\n",
    "map"
   ]
  },
  {
   "cell_type": "code",
   "execution_count": null,
   "metadata": {
    "id": "GrAC85EaC_k-"
   },
   "outputs": [],
   "source": [
    "sns.scatterplot(x=sample_df.Start_Lng,y=sample_df.Start_Lat,size=0.001)"
   ]
  },
  {
   "cell_type": "code",
   "execution_count": null,
   "metadata": {
    "id": "5kxFVRxIC_-j"
   },
   "outputs": [],
   "source": []
  },
  {
   "cell_type": "markdown",
   "metadata": {
    "id": "yWviPgF_XqYt"
   },
   "source": [
    "## Ask & Answer Questions\r\n",
    "\r\n",
    "1. Are there more accidents in warmer or colder areas?\r\n",
    "2. Which 5 states have the highest number of accidents? How about per capita?\r\n",
    "3. Does New york show up in the data? If yes,why is the count lower if this is the most populated city?\r\n",
    "4. Among the top 100 cities with most accidents , which states do they belong to most frequently.\r\n",
    "5. What time of the day are accidents most frequent in?\r\n",
    "6. Which days of the week have the most accidents\r\n",
    "7. Which monts have the most accidents?\r\n",
    "8. What is the trend of accidents year over year (decreasing/increasing)\r\n",
    "9. When is accidents per unit of traffic is the highest?"
   ]
  },
  {
   "cell_type": "markdown",
   "metadata": {
    "id": "Fk-I0XfibFlO"
   },
   "source": [
    "### 3. Does New york show up in the data? If yes,why is the count lower if this is the most populated city?"
   ]
  },
  {
   "cell_type": "code",
   "execution_count": null,
   "metadata": {
    "id": "NCQvj7q9XpLn"
   },
   "outputs": [],
   "source": [
    "cities_by_accident = df.City.value_counts()\r\n",
    "cities_by_accident"
   ]
  },
  {
   "cell_type": "code",
   "execution_count": null,
   "metadata": {
    "id": "eWc6qhZ1bmuV"
   },
   "outputs": [],
   "source": [
    "'New York' in dict(cities_by_accident)"
   ]
  },
  {
   "cell_type": "markdown",
   "metadata": {
    "id": "LUbvrUVjbtXO"
   },
   "source": [
    "Yes, New York is in the list of cities"
   ]
  },
  {
   "cell_type": "code",
   "execution_count": null,
   "metadata": {
    "id": "sl-rugHzXpRo"
   },
   "outputs": [],
   "source": [
    "dict(cities_by_accident)['New York']"
   ]
  },
  {
   "cell_type": "markdown",
   "metadata": {
    "id": "TY5-jHmnbzIm"
   },
   "source": [
    "Total accidents observed in New York is 10255"
   ]
  },
  {
   "cell_type": "code",
   "execution_count": null,
   "metadata": {
    "id": "WKM3tD_qXpZh"
   },
   "outputs": [],
   "source": []
  },
  {
   "cell_type": "markdown",
   "metadata": {
    "id": "zkjvflOCXuhA"
   },
   "source": [
    "## Summary and Conclusion\r\n",
    "\r\n",
    "Insights:\r\n",
    "- Most populous city 'New York' have significantly less accidents than other cities\r\n",
    "- The number of accidents per city decreases exponentially\r\n",
    "- Less than 5% of cities have more than 1000 yearly accident\r\n",
    "- Over 1200 cities have reported only 1 accident (need to investigate)"
   ]
  },
  {
   "cell_type": "code",
   "execution_count": null,
   "metadata": {
    "id": "5kfemi1qXpgD"
   },
   "outputs": [],
   "source": [
    "import jovian"
   ]
  },
  {
   "cell_type": "code",
   "execution_count": null,
   "metadata": {
    "id": "-ubZ5x72cuPQ"
   },
   "outputs": [],
   "source": [
    "jovian.commit()"
   ]
  },
  {
   "cell_type": "markdown",
   "metadata": {
    "id": "sO-Q1SvrXLYC"
   },
   "source": []
  }
 ],
 "metadata": {
  "colab": {
   "name": "us-accidents-analysis.ipynb",
   "provenance": []
  },
  "language_info": {
   "codemirror_mode": {
    "name": "ipython",
    "version": 3
   },
   "file_extension": ".py",
   "mimetype": "text/x-python",
   "name": "python",
   "nbconvert_exporter": "python",
   "pygments_lexer": "ipython3",
   "version": "3.7.6"
  }
 },
 "nbformat": 4,
 "nbformat_minor": 0
}